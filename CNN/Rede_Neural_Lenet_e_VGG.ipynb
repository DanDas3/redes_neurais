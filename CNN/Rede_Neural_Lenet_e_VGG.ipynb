{
  "nbformat": 4,
  "nbformat_minor": 0,
  "metadata": {
    "colab": {
      "name": "Rede Neural Lenet e VGG",
      "version": "0.3.2",
      "provenance": [],
      "collapsed_sections": [],
      "include_colab_link": true
    },
    "kernelspec": {
      "name": "python3",
      "display_name": "Python 3"
    },
    "accelerator": "GPU"
  },
  "cells": [
    {
      "cell_type": "markdown",
      "metadata": {
        "id": "view-in-github",
        "colab_type": "text"
      },
      "source": [
        "<a href=\"https://colab.research.google.com/github/vmacf/redes_neurais/blob/master/CNN/Rede_Neural_Lenet_e_VGG.ipynb\" target=\"_parent\"><img src=\"https://colab.research.google.com/assets/colab-badge.svg\" alt=\"Open In Colab\"/></a>"
      ]
    },
    {
      "metadata": {
        "id": "wziql3WY62o0",
        "colab_type": "text"
      },
      "cell_type": "markdown",
      "source": [
        "## Rede Neural Convolucional\n",
        "\n",
        "### Nessa aula, vamos treinar a rede Neural VGG com a base de dados CIFAR-10\n",
        "\n",
        "---\n",
        "\n",
        "### 1. Carrega a Base de dados CIFAR-10"
      ]
    },
    {
      "metadata": {
        "id": "Mg9ihtNj8pDo",
        "colab_type": "code",
        "colab": {}
      },
      "cell_type": "code",
      "source": [
        "import keras\n",
        "from keras.datasets import cifar10\n",
        "\n",
        "# load the pre-shuffled train and test data\n",
        "(x_train, y_train), (x_test, y_test) = cifar10.load_data()"
      ],
      "execution_count": 0,
      "outputs": []
    },
    {
      "metadata": {
        "id": "G41PbCuK8qQH",
        "colab_type": "text"
      },
      "cell_type": "markdown",
      "source": [
        "###2. Reescale as imagens dividindo todos os pixels por 255"
      ]
    },
    {
      "metadata": {
        "id": "CeJg_vfa828R",
        "colab_type": "code",
        "colab": {}
      },
      "cell_type": "code",
      "source": [
        "# rescale [0,255] --> [0,1]\n",
        "x_train = x_train.astype('float32')/255\n",
        "x_test = x_test.astype('float32')/255"
      ],
      "execution_count": 0,
      "outputs": []
    },
    {
      "metadata": {
        "id": "qYO2Eone87MN",
        "colab_type": "text"
      },
      "cell_type": "markdown",
      "source": [
        "### 3.  Dividir base de dados em conjuntos de treinamento, teste e validação."
      ]
    },
    {
      "metadata": {
        "id": "WeikbgB68886",
        "colab_type": "code",
        "outputId": "c8fb2e44-0904-4bdf-c735-09e2e3cb126f",
        "colab": {
          "base_uri": "https://localhost:8080/",
          "height": 92
        }
      },
      "cell_type": "code",
      "source": [
        "from keras.utils import np_utils\n",
        "\n",
        "# one-hot encode the labels\n",
        "num_classes = len(np.unique(y_train))\n",
        "y_train = keras.utils.to_categorical(y_train, num_classes)\n",
        "y_test = keras.utils.to_categorical(y_test, num_classes)\n",
        "\n",
        "# break training set into training and validation sets\n",
        "(x_train, x_valid) = x_train[5000:], x_train[:5000]\n",
        "(y_train, y_valid) = y_train[5000:], y_train[:5000]\n",
        "\n",
        "# print shape of training set\n",
        "print('x_train shape:', x_train.shape)\n",
        "\n",
        "# print number of training, validation, and test images\n",
        "print(x_train.shape[0], 'train samples')\n",
        "print(x_test.shape[0], 'test samples')\n",
        "print(x_valid.shape[0], 'validation samples')"
      ],
      "execution_count": 0,
      "outputs": [
        {
          "output_type": "stream",
          "text": [
            "x_train shape: (45000, 32, 32, 3)\n",
            "45000 train samples\n",
            "10000 test samples\n",
            "5000 validation samples\n"
          ],
          "name": "stdout"
        }
      ]
    },
    {
      "metadata": {
        "id": "krh48rlw9XHe",
        "colab_type": "text"
      },
      "cell_type": "markdown",
      "source": [
        "### 4. Comece importando os pacotes necessários para o projeto"
      ]
    },
    {
      "metadata": {
        "id": "WppfDvBhkFfd",
        "colab_type": "code",
        "colab": {}
      },
      "cell_type": "code",
      "source": [
        "# import the necessary packages\n",
        "#from pyimagesearch.nn.conv import LeNet\n",
        "from keras.optimizers import SGD\n",
        "from sklearn.preprocessing import LabelBinarizer\n",
        "from sklearn.metrics import classification_report\n",
        "from keras import backend as K\n",
        "import matplotlib.pyplot as plt\n",
        "import numpy as np\n",
        "\n",
        "from keras.models import Sequential\n",
        "from keras.layers.convolutional import Conv2D\n",
        "from keras.layers.convolutional import MaxPooling2D\n",
        "from keras.layers.core import Activation\n",
        "from keras.layers.core import Flatten\n",
        "from keras.layers.core import Dense"
      ],
      "execution_count": 0,
      "outputs": []
    },
    {
      "metadata": {
        "id": "gfEq5XMP92vb",
        "colab_type": "text"
      },
      "cell_type": "markdown",
      "source": [
        "### 5. Construa o modelo Lenet"
      ]
    },
    {
      "metadata": {
        "id": "U27CsX1OkewH",
        "colab_type": "code",
        "colab": {}
      },
      "cell_type": "code",
      "source": [
        "def build_LeNet(width, height, depth, classes):\n",
        "  # initialize the model\n",
        "  model = Sequential()\n",
        "  inputShape = (height, width, depth)\n",
        "\n",
        "  # first set of CONV => RELU => POOL layers\n",
        "  model.add(Conv2D(20, (5, 5), padding=\"same\",\n",
        "    input_shape=inputShape))\n",
        "  model.add(Activation(\"relu\"))\n",
        "  model.add(MaxPooling2D(pool_size=(2, 2), strides=(2, 2)))\n",
        "\n",
        "  # second set of CONV => RELU => POOL layers\n",
        "  model.add(Conv2D(50, (5, 5), padding=\"same\"))\n",
        "  model.add(Activation(\"relu\"))\n",
        "  model.add(MaxPooling2D(pool_size=(2, 2), strides=(2, 2)))\n",
        "\n",
        "  # first (and only) set of FC => RELU layers\n",
        "  model.add(Flatten())\n",
        "  model.add(Dense(500))\n",
        "  model.add(Activation(\"relu\"))\n",
        "\n",
        "  # softmax classifier\n",
        "  model.add(Dense(classes))\n",
        "  model.add(Activation(\"softmax\"))\n",
        "  \n",
        "  model.summary()\n",
        "  \n",
        "  # return the constructed network architecture\n",
        "  return model"
      ],
      "execution_count": 0,
      "outputs": []
    },
    {
      "metadata": {
        "id": "rbNA7trm-UFq",
        "colab_type": "text"
      },
      "cell_type": "markdown",
      "source": [
        "### 6. Construa o modelo MiniVGG"
      ]
    },
    {
      "metadata": {
        "id": "PU54qS0nD7QS",
        "colab_type": "code",
        "colab": {}
      },
      "cell_type": "code",
      "source": [
        "from keras.layers.normalization import BatchNormalization\n",
        "from keras.layers.core import Dropout\n",
        "\n",
        "def build_MiniVGG(width, height, depth, classes):\n",
        "  # initialize the model\n",
        "  model = Sequential()\n",
        "  inputShape = (height, width, depth)# first CONV => RELU => CONV => RELU => POOL layer set\n",
        "  model.add(Conv2D(32, (3, 3), padding=\"same\",\n",
        "  input_shape=inputShape))\n",
        "  model.add(Activation(\"relu\"))\n",
        "  model.add(BatchNormalization(axis=2))\n",
        "  model.add(Conv2D(32, (3, 3), padding=\"same\"))\n",
        "  model.add(Activation(\"relu\"))\n",
        "  model.add(BatchNormalization(axis=2))\n",
        "  model.add(MaxPooling2D(pool_size=(2, 2)))\n",
        "  model.add(Dropout(0.25))\n",
        "  \n",
        "  # second CONV => RELU => CONV => RELU => POOL layer set\n",
        "  model.add(Conv2D(64, (3, 3), padding=\"same\"))\n",
        "  model.add(Activation(\"relu\"))\n",
        "  model.add(BatchNormalization(axis=2))\n",
        "  model.add(Conv2D(64, (3, 3), padding=\"same\"))\n",
        "  model.add(Activation(\"relu\"))\n",
        "  model.add(BatchNormalization(axis=2))\n",
        "  model.add(MaxPooling2D(pool_size=(2, 2)))\n",
        "  model.add(Dropout(0.25))\n",
        "  \n",
        "  # first (and only) set of FC => RELU layers\n",
        "  model.add(Flatten())\n",
        "  model.add(Dense(512))\n",
        "  model.add(Activation(\"relu\"))\n",
        "  model.add(BatchNormalization())\n",
        "  model.add(Dropout(0.5))\n",
        "  \n",
        "  # softmax classifier\n",
        "  model.add(Dense(classes))\n",
        "  model.add(Activation(\"softmax\"))\n",
        "  \n",
        "  model.summary()\n",
        "  \n",
        "  # return the constructed network architecture\n",
        "  return model\n",
        "  "
      ],
      "execution_count": 0,
      "outputs": []
    },
    {
      "metadata": {
        "id": "_ako4TaV_LZ9",
        "colab_type": "text"
      },
      "cell_type": "markdown",
      "source": [
        "### 7. Compile o modelo desejado (Lenet ou MiniVGG)"
      ]
    },
    {
      "metadata": {
        "id": "UhXIPFVQ_ON-",
        "colab_type": "code",
        "outputId": "f8bb157f-6253-42ac-ab06-49f1e1b09f84",
        "colab": {
          "base_uri": "https://localhost:8080/",
          "height": 1008
        }
      },
      "cell_type": "code",
      "source": [
        "opt = SGD(lr=0.01)\n",
        "model = build_MiniVGG(width=32, height=32, depth=3, classes=10)\n",
        "model.compile(loss='categorical_crossentropy', optimizer=opt, \n",
        "                  metrics=['accuracy'])"
      ],
      "execution_count": 0,
      "outputs": [
        {
          "output_type": "stream",
          "text": [
            "_________________________________________________________________\n",
            "Layer (type)                 Output Shape              Param #   \n",
            "=================================================================\n",
            "conv2d_5 (Conv2D)            (None, 32, 32, 32)        896       \n",
            "_________________________________________________________________\n",
            "activation_7 (Activation)    (None, 32, 32, 32)        0         \n",
            "_________________________________________________________________\n",
            "batch_normalization_6 (Batch (None, 32, 32, 32)        128       \n",
            "_________________________________________________________________\n",
            "conv2d_6 (Conv2D)            (None, 32, 32, 32)        9248      \n",
            "_________________________________________________________________\n",
            "activation_8 (Activation)    (None, 32, 32, 32)        0         \n",
            "_________________________________________________________________\n",
            "batch_normalization_7 (Batch (None, 32, 32, 32)        128       \n",
            "_________________________________________________________________\n",
            "max_pooling2d_3 (MaxPooling2 (None, 16, 16, 32)        0         \n",
            "_________________________________________________________________\n",
            "dropout_4 (Dropout)          (None, 16, 16, 32)        0         \n",
            "_________________________________________________________________\n",
            "conv2d_7 (Conv2D)            (None, 16, 16, 64)        18496     \n",
            "_________________________________________________________________\n",
            "activation_9 (Activation)    (None, 16, 16, 64)        0         \n",
            "_________________________________________________________________\n",
            "batch_normalization_8 (Batch (None, 16, 16, 64)        64        \n",
            "_________________________________________________________________\n",
            "conv2d_8 (Conv2D)            (None, 16, 16, 64)        36928     \n",
            "_________________________________________________________________\n",
            "activation_10 (Activation)   (None, 16, 16, 64)        0         \n",
            "_________________________________________________________________\n",
            "batch_normalization_9 (Batch (None, 16, 16, 64)        64        \n",
            "_________________________________________________________________\n",
            "max_pooling2d_4 (MaxPooling2 (None, 8, 8, 64)          0         \n",
            "_________________________________________________________________\n",
            "dropout_5 (Dropout)          (None, 8, 8, 64)          0         \n",
            "_________________________________________________________________\n",
            "flatten_2 (Flatten)          (None, 4096)              0         \n",
            "_________________________________________________________________\n",
            "dense_3 (Dense)              (None, 512)               2097664   \n",
            "_________________________________________________________________\n",
            "activation_11 (Activation)   (None, 512)               0         \n",
            "_________________________________________________________________\n",
            "batch_normalization_10 (Batc (None, 512)               2048      \n",
            "_________________________________________________________________\n",
            "dropout_6 (Dropout)          (None, 512)               0         \n",
            "_________________________________________________________________\n",
            "dense_4 (Dense)              (None, 10)                5130      \n",
            "_________________________________________________________________\n",
            "activation_12 (Activation)   (None, 10)                0         \n",
            "=================================================================\n",
            "Total params: 2,170,794\n",
            "Trainable params: 2,169,578\n",
            "Non-trainable params: 1,216\n",
            "_________________________________________________________________\n"
          ],
          "name": "stdout"
        }
      ]
    },
    {
      "metadata": {
        "id": "J9C2tpWs_oF4",
        "colab_type": "text"
      },
      "cell_type": "markdown",
      "source": [
        "### 8. Treine o Modelo"
      ]
    },
    {
      "metadata": {
        "id": "qMNki4Ou_rFd",
        "colab_type": "code",
        "outputId": "53a5020e-6b35-48d4-fe53-bbb11537f242",
        "colab": {
          "base_uri": "https://localhost:8080/",
          "height": 1608
        }
      },
      "cell_type": "code",
      "source": [
        "from keras.callbacks import ModelCheckpoint   \n",
        "\n",
        "# train the model\n",
        "checkpointer = ModelCheckpoint(filepath='model.weights.best.hdf5', verbose=1, \n",
        "                               save_best_only=True)\n",
        "hist = model.fit(x_train, y_train, batch_size=128, epochs=20,\n",
        "          validation_data=(x_valid, y_valid), callbacks=[checkpointer], \n",
        "          verbose=2, shuffle=True)"
      ],
      "execution_count": 0,
      "outputs": [
        {
          "output_type": "stream",
          "text": [
            "WARNING:tensorflow:From /usr/local/lib/python3.6/dist-packages/tensorflow/python/ops/math_ops.py:3066: to_int32 (from tensorflow.python.ops.math_ops) is deprecated and will be removed in a future version.\n",
            "Instructions for updating:\n",
            "Use tf.cast instead.\n",
            "Train on 45000 samples, validate on 5000 samples\n",
            "Epoch 1/20\n",
            " - 14s - loss: 2.3739 - acc: 0.2794 - val_loss: 1.6038 - val_acc: 0.4348\n",
            "\n",
            "Epoch 00001: val_loss improved from inf to 1.60379, saving model to model.weights.best.hdf5\n",
            "Epoch 2/20\n",
            " - 10s - loss: 1.7763 - acc: 0.3959 - val_loss: 1.4138 - val_acc: 0.4956\n",
            "\n",
            "Epoch 00002: val_loss improved from 1.60379 to 1.41383, saving model to model.weights.best.hdf5\n",
            "Epoch 3/20\n",
            " - 10s - loss: 1.5654 - acc: 0.4528 - val_loss: 1.5405 - val_acc: 0.4518\n",
            "\n",
            "Epoch 00003: val_loss did not improve from 1.41383\n",
            "Epoch 4/20\n",
            " - 10s - loss: 1.4175 - acc: 0.4969 - val_loss: 1.2163 - val_acc: 0.5706\n",
            "\n",
            "Epoch 00004: val_loss improved from 1.41383 to 1.21631, saving model to model.weights.best.hdf5\n",
            "Epoch 5/20\n",
            " - 10s - loss: 1.3287 - acc: 0.5282 - val_loss: 1.1496 - val_acc: 0.5886\n",
            "\n",
            "Epoch 00005: val_loss improved from 1.21631 to 1.14965, saving model to model.weights.best.hdf5\n",
            "Epoch 6/20\n",
            " - 10s - loss: 1.2437 - acc: 0.5564 - val_loss: 1.1358 - val_acc: 0.5886\n",
            "\n",
            "Epoch 00006: val_loss improved from 1.14965 to 1.13583, saving model to model.weights.best.hdf5\n",
            "Epoch 7/20\n",
            " - 10s - loss: 1.1866 - acc: 0.5777 - val_loss: 1.0454 - val_acc: 0.6282\n",
            "\n",
            "Epoch 00007: val_loss improved from 1.13583 to 1.04538, saving model to model.weights.best.hdf5\n",
            "Epoch 8/20\n",
            " - 10s - loss: 1.1369 - acc: 0.5948 - val_loss: 1.0075 - val_acc: 0.6328\n",
            "\n",
            "Epoch 00008: val_loss improved from 1.04538 to 1.00752, saving model to model.weights.best.hdf5\n",
            "Epoch 9/20\n",
            " - 10s - loss: 1.0886 - acc: 0.6123 - val_loss: 0.9601 - val_acc: 0.6562\n",
            "\n",
            "Epoch 00009: val_loss improved from 1.00752 to 0.96010, saving model to model.weights.best.hdf5\n",
            "Epoch 10/20\n",
            " - 10s - loss: 1.0495 - acc: 0.6253 - val_loss: 0.9817 - val_acc: 0.6522\n",
            "\n",
            "Epoch 00010: val_loss did not improve from 0.96010\n",
            "Epoch 11/20\n",
            " - 10s - loss: 1.0126 - acc: 0.6384 - val_loss: 0.9705 - val_acc: 0.6468\n",
            "\n",
            "Epoch 00011: val_loss did not improve from 0.96010\n",
            "Epoch 12/20\n",
            " - 10s - loss: 0.9848 - acc: 0.6488 - val_loss: 0.8828 - val_acc: 0.6878\n",
            "\n",
            "Epoch 00012: val_loss improved from 0.96010 to 0.88283, saving model to model.weights.best.hdf5\n",
            "Epoch 13/20\n",
            " - 10s - loss: 0.9570 - acc: 0.6581 - val_loss: 0.8612 - val_acc: 0.6938\n",
            "\n",
            "Epoch 00013: val_loss improved from 0.88283 to 0.86116, saving model to model.weights.best.hdf5\n",
            "Epoch 14/20\n",
            " - 10s - loss: 0.9241 - acc: 0.6702 - val_loss: 0.8682 - val_acc: 0.6886\n",
            "\n",
            "Epoch 00014: val_loss did not improve from 0.86116\n",
            "Epoch 15/20\n",
            " - 10s - loss: 0.9049 - acc: 0.6795 - val_loss: 0.8737 - val_acc: 0.6924\n",
            "\n",
            "Epoch 00015: val_loss did not improve from 0.86116\n",
            "Epoch 16/20\n",
            " - 10s - loss: 0.8827 - acc: 0.6867 - val_loss: 0.9767 - val_acc: 0.6614\n",
            "\n",
            "Epoch 00016: val_loss did not improve from 0.86116\n",
            "Epoch 17/20\n",
            " - 10s - loss: 0.8652 - acc: 0.6931 - val_loss: 0.8140 - val_acc: 0.7122\n",
            "\n",
            "Epoch 00017: val_loss improved from 0.86116 to 0.81395, saving model to model.weights.best.hdf5\n",
            "Epoch 18/20\n",
            " - 10s - loss: 0.8450 - acc: 0.7015 - val_loss: 0.7839 - val_acc: 0.7202\n",
            "\n",
            "Epoch 00018: val_loss improved from 0.81395 to 0.78390, saving model to model.weights.best.hdf5\n",
            "Epoch 19/20\n",
            " - 10s - loss: 0.8260 - acc: 0.7077 - val_loss: 0.8692 - val_acc: 0.6902\n",
            "\n",
            "Epoch 00019: val_loss did not improve from 0.78390\n",
            "Epoch 20/20\n",
            " - 10s - loss: 0.8082 - acc: 0.7139 - val_loss: 0.8118 - val_acc: 0.7126\n",
            "\n",
            "Epoch 00020: val_loss did not improve from 0.78390\n"
          ],
          "name": "stdout"
        }
      ]
    },
    {
      "metadata": {
        "id": "kVuD-3YRApuZ",
        "colab_type": "text"
      },
      "cell_type": "markdown",
      "source": [
        "### 9. Carrege o modelo com a melhor acurácia no conjunto de validação"
      ]
    },
    {
      "metadata": {
        "id": "2hRoZP7lAz4_",
        "colab_type": "code",
        "colab": {}
      },
      "cell_type": "code",
      "source": [
        "# load the weights that yielded the best validation accuracy\n",
        "model.load_weights('model.weights.best.hdf5')"
      ],
      "execution_count": 0,
      "outputs": []
    },
    {
      "metadata": {
        "id": "oGZZwhU2A08d",
        "colab_type": "text"
      },
      "cell_type": "markdown",
      "source": [
        "### **10**. Calcule a acurácia no conjunto de teste"
      ]
    },
    {
      "metadata": {
        "id": "pOu79m9dA-5D",
        "colab_type": "code",
        "outputId": "5708c4c7-6c03-4532-f553-455dbefc3a9c",
        "colab": {
          "base_uri": "https://localhost:8080/",
          "height": 54
        }
      },
      "cell_type": "code",
      "source": [
        "# evaluate and print test accuracy\n",
        "score = model.evaluate(x_test, y_test, verbose=0)\n",
        "print('\\n', 'Test accuracy:', score[1])"
      ],
      "execution_count": 0,
      "outputs": [
        {
          "output_type": "stream",
          "text": [
            "\n",
            " Test accuracy: 0.7209\n"
          ],
          "name": "stdout"
        }
      ]
    },
    {
      "metadata": {
        "id": "yb9V707SDIFc",
        "colab_type": "text"
      },
      "cell_type": "markdown",
      "source": [
        "### **11**. Informações sobre acurácia no treinamento"
      ]
    },
    {
      "metadata": {
        "id": "DkumElTUH622",
        "colab_type": "code",
        "outputId": "e5bdc967-1b82-4710-ba01-2187a7ac7a0f",
        "colab": {
          "base_uri": "https://localhost:8080/",
          "height": 636
        }
      },
      "cell_type": "code",
      "source": [
        "# evaluate the network\n",
        "print(\"[INFO] evaluating network...\")\n",
        "\n",
        "# get predictions on the test set\n",
        "predictions = model.predict(x_test, batch_size=128)\n",
        "\n",
        "# define text labels (source: https://www.cs.toronto.edu/~kriz/cifar.html)\n",
        "cifar10_labels = ['airplane', 'automobile', 'bird', 'cat', 'deer', 'dog', 'frog', 'horse', 'ship', 'truck']\n",
        "\n",
        "\n",
        "print(classification_report(y_test.argmax(axis=1),\n",
        "predictions.argmax(axis=1),\n",
        "target_names=cifar10_labels))\n",
        "\n",
        "# plot the training loss and accuracy\n",
        "plt.style.use(\"ggplot\")\n",
        "plt.figure()\n",
        "plt.plot(np.arange(0, 20), hist.history[\"loss\"], label=\"train_loss\" )\n",
        "plt.plot(np.arange(0, 20), hist.history[\"val_loss\"], label=\"val_loss\")\n",
        "plt.plot(np.arange(0, 20), hist.history[\"acc\" ], label=\"train_acc\" )\n",
        "plt.plot(np.arange(0, 20), hist.history[\"val_acc\"], label=\"val_acc\")\n",
        "plt.title(\"Training Loss and Accuracy\")\n",
        "plt.xlabel(\"Epoch #\")\n",
        "plt.ylabel(\"Loss/Accuracy\")\n",
        "plt.legend()\n",
        "plt.show()"
      ],
      "execution_count": 0,
      "outputs": [
        {
          "output_type": "stream",
          "text": [
            "[INFO] evaluating network...\n",
            "              precision    recall  f1-score   support\n",
            "\n",
            "    airplane       0.76      0.75      0.75      1000\n",
            "  automobile       0.82      0.86      0.84      1000\n",
            "        bird       0.72      0.49      0.58      1000\n",
            "         cat       0.50      0.60      0.54      1000\n",
            "        deer       0.65      0.70      0.68      1000\n",
            "         dog       0.67      0.54      0.60      1000\n",
            "        frog       0.71      0.87      0.78      1000\n",
            "       horse       0.80      0.76      0.78      1000\n",
            "        ship       0.83      0.82      0.83      1000\n",
            "       truck       0.79      0.82      0.80      1000\n",
            "\n",
            "   micro avg       0.72      0.72      0.72     10000\n",
            "   macro avg       0.73      0.72      0.72     10000\n",
            "weighted avg       0.73      0.72      0.72     10000\n",
            "\n"
          ],
          "name": "stdout"
        },
        {
          "output_type": "display_data",
          "data": {
            "image/png": "[encoded data removed]",
            "text/plain": [
              "<Figure size 432x288 with 1 Axes>"
            ]
          },
          "metadata": {
            "tags": []
          }
        }
      ]
    },
    {
      "metadata": {
        "id": "KtsNOi--O0dT",
        "colab_type": "text"
      },
      "cell_type": "markdown",
      "source": [
        "##Exercício\n",
        "\n",
        "1. Compare a arquitetura criada LENET com a AlexNet. Quais são as principais diferenças? Formule uma nova arquitetura da AlexNet.\n",
        "\n",
        "2. Compare a arquitetura criada MiniVGG com a VGG16. Quais são as principais diferenças? Formule uma nova arquitetura VGG16."
      ]
    }
  ]
}